{
 "cells": [
  {
   "cell_type": "code",
   "execution_count": 120,
   "metadata": {},
   "outputs": [],
   "source": [
    "import pandas as pd"
   ]
  },
  {
   "cell_type": "code",
   "execution_count": 121,
   "metadata": {},
   "outputs": [
    {
     "data": {
      "text/html": [
       "<div>\n",
       "<style scoped>\n",
       "    .dataframe tbody tr th:only-of-type {\n",
       "        vertical-align: middle;\n",
       "    }\n",
       "\n",
       "    .dataframe tbody tr th {\n",
       "        vertical-align: top;\n",
       "    }\n",
       "\n",
       "    .dataframe thead th {\n",
       "        text-align: right;\n",
       "    }\n",
       "</style>\n",
       "<table border=\"1\" class=\"dataframe\">\n",
       "  <thead>\n",
       "    <tr style=\"text-align: right;\">\n",
       "      <th></th>\n",
       "      <th>id_ocorrencia</th>\n",
       "      <th>des_ocorrencia</th>\n",
       "      <th>dt_registro</th>\n",
       "      <th>nro_ocorrencia</th>\n",
       "      <th>legado</th>\n",
       "      <th>validado</th>\n",
       "      <th>periodo_ocorrencia</th>\n",
       "      <th>municipio</th>\n",
       "      <th>uf</th>\n",
       "      <th>origem</th>\n",
       "      <th>tipo_evento</th>\n",
       "      <th>institiuicoes_atuando_local</th>\n",
       "      <th>tipos_fontes_informacoes</th>\n",
       "      <th>tipos_danos_identificados</th>\n",
       "    </tr>\n",
       "  </thead>\n",
       "  <tbody>\n",
       "    <tr>\n",
       "      <th>0</th>\n",
       "      <td>312</td>\n",
       "      <td>Tombamento de caminhão carregado de biocombust...</td>\n",
       "      <td>2008-01-01 00:00:00</td>\n",
       "      <td>100</td>\n",
       "      <td>t</td>\n",
       "      <td>S</td>\n",
       "      <td>M</td>\n",
       "      <td>Pilar</td>\n",
       "      <td>AL</td>\n",
       "      <td>Rodovia</td>\n",
       "      <td>Outro(s)</td>\n",
       "      <td>Corpo de Bombeiros;Polícia Rodoviária</td>\n",
       "      <td>Mídia</td>\n",
       "      <td>Óbitos/feridos</td>\n",
       "    </tr>\n",
       "    <tr>\n",
       "      <th>1</th>\n",
       "      <td>313</td>\n",
       "      <td>Explosão em depósito de gás.</td>\n",
       "      <td>2008-01-01 00:00:00</td>\n",
       "      <td>101</td>\n",
       "      <td>t</td>\n",
       "      <td>S</td>\n",
       "      <td>M</td>\n",
       "      <td>Vitória</td>\n",
       "      <td>ES</td>\n",
       "      <td>Armazenamento/depósito</td>\n",
       "      <td>Outro(s)</td>\n",
       "      <td>Corpo de Bombeiros</td>\n",
       "      <td>Mídia</td>\n",
       "      <td>Outro(s)</td>\n",
       "    </tr>\n",
       "    <tr>\n",
       "      <th>2</th>\n",
       "      <td>314</td>\n",
       "      <td>Vazamento de esgoto em grande quantidade causa...</td>\n",
       "      <td>2009-01-01 00:00:00</td>\n",
       "      <td>102</td>\n",
       "      <td>t</td>\n",
       "      <td>S</td>\n",
       "      <td>M</td>\n",
       "      <td>Dourados</td>\n",
       "      <td>MS</td>\n",
       "      <td>Outro(s)</td>\n",
       "      <td>Outro(s)</td>\n",
       "      <td>Outra(s)</td>\n",
       "      <td>Mídia</td>\n",
       "      <td>Fauna;Flora;População afetada/evacuada;Rio/cór...</td>\n",
       "    </tr>\n",
       "    <tr>\n",
       "      <th>3</th>\n",
       "      <td>315</td>\n",
       "      <td>Tombamento de caminhão carregado de combustíve...</td>\n",
       "      <td>2009-01-01 00:00:00</td>\n",
       "      <td>103</td>\n",
       "      <td>t</td>\n",
       "      <td>S</td>\n",
       "      <td>M</td>\n",
       "      <td>NaN</td>\n",
       "      <td>DF</td>\n",
       "      <td>Rodovia</td>\n",
       "      <td>Outro(s)</td>\n",
       "      <td>Corpo de Bombeiros;Defesa Civil</td>\n",
       "      <td>Mídia</td>\n",
       "      <td>Solo</td>\n",
       "    </tr>\n",
       "    <tr>\n",
       "      <th>4</th>\n",
       "      <td>316</td>\n",
       "      <td>300 Kg de produtos poluidores encontrados ás m...</td>\n",
       "      <td>2009-01-01 00:00:00</td>\n",
       "      <td>104</td>\n",
       "      <td>t</td>\n",
       "      <td>S</td>\n",
       "      <td>M</td>\n",
       "      <td>Marques de Souza</td>\n",
       "      <td>RS</td>\n",
       "      <td>Outro(s)</td>\n",
       "      <td>Outro(s)</td>\n",
       "      <td>Outra(s)</td>\n",
       "      <td>Mídia</td>\n",
       "      <td>Rio/córrego;Solo</td>\n",
       "    </tr>\n",
       "  </tbody>\n",
       "</table>\n",
       "</div>"
      ],
      "text/plain": [
       "   id_ocorrencia                                     des_ocorrencia  \\\n",
       "0            312  Tombamento de caminhão carregado de biocombust...   \n",
       "1            313                       Explosão em depósito de gás.   \n",
       "2            314  Vazamento de esgoto em grande quantidade causa...   \n",
       "3            315  Tombamento de caminhão carregado de combustíve...   \n",
       "4            316  300 Kg de produtos poluidores encontrados ás m...   \n",
       "\n",
       "           dt_registro  nro_ocorrencia legado validado periodo_ocorrencia  \\\n",
       "0  2008-01-01 00:00:00             100      t        S                  M   \n",
       "1  2008-01-01 00:00:00             101      t        S                  M   \n",
       "2  2009-01-01 00:00:00             102      t        S                  M   \n",
       "3  2009-01-01 00:00:00             103      t        S                  M   \n",
       "4  2009-01-01 00:00:00             104      t        S                  M   \n",
       "\n",
       "          municipio  uf                  origem tipo_evento  \\\n",
       "0             Pilar  AL                 Rodovia    Outro(s)   \n",
       "1           Vitória  ES  Armazenamento/depósito    Outro(s)   \n",
       "2          Dourados  MS                Outro(s)    Outro(s)   \n",
       "3               NaN  DF                 Rodovia    Outro(s)   \n",
       "4  Marques de Souza  RS                Outro(s)    Outro(s)   \n",
       "\n",
       "             institiuicoes_atuando_local tipos_fontes_informacoes  \\\n",
       "0  Corpo de Bombeiros;Polícia Rodoviária                    Mídia   \n",
       "1                     Corpo de Bombeiros                    Mídia   \n",
       "2                               Outra(s)                    Mídia   \n",
       "3        Corpo de Bombeiros;Defesa Civil                    Mídia   \n",
       "4                               Outra(s)                    Mídia   \n",
       "\n",
       "                           tipos_danos_identificados  \n",
       "0                                     Óbitos/feridos  \n",
       "1                                           Outro(s)  \n",
       "2  Fauna;Flora;População afetada/evacuada;Rio/cór...  \n",
       "3                                               Solo  \n",
       "4                                   Rio/córrego;Solo  "
      ]
     },
     "execution_count": 121,
     "metadata": {},
     "output_type": "execute_result"
    }
   ],
   "source": [
    "df = pd.read_csv(r'C:\\Users\\Mateus\\Desktop\\adm_comunicacidente_p.csv')\n",
    "df.head()"
   ]
  },
  {
   "cell_type": "code",
   "execution_count": 137,
   "metadata": {},
   "outputs": [
    {
     "data": {
      "text/plain": [
       "<AxesSubplot:xlabel='Estado', ylabel='Ocorrências'>"
      ]
     },
     "execution_count": 137,
     "metadata": {},
     "output_type": "execute_result"
    },
    {
     "data": {
      "image/png": "[encoded data removed]",
      "text/plain": [
       "<Figure size 504x504 with 1 Axes>"
      ]
     },
     "metadata": {
      "needs_background": "light"
     },
     "output_type": "display_data"
    }
   ],
   "source": [
    "#adicionando contador\n",
    "df['contador'] = 1\n",
    "#df uf\n",
    "df_uf = df.groupby('uf')['contador'].sum()\n",
    "df_uf.plot.bar(xlabel='Estado',ylabel='Ocorrências',figsize=(7, 7))"
   ]
  },
  {
   "cell_type": "code",
   "execution_count": 136,
   "metadata": {
    "scrolled": false
   },
   "outputs": [
    {
     "data": {
      "text/plain": [
       "<AxesSubplot:>"
      ]
     },
     "execution_count": 136,
     "metadata": {},
     "output_type": "execute_result"
    },
    {
     "data": {
      "image/png": "[encoded data removed]",
      "text/plain": [
       "<Figure size 504x504 with 1 Axes>"
      ]
     },
     "metadata": {},
     "output_type": "display_data"
    }
   ],
   "source": [
    "#df origem info\n",
    "df_info = df.groupby('tipos_fontes_informacoes').sum()\n",
    "df_info.columns = ['id','nro','contador']\n",
    "df_info['contador'][df_info['contador']>200].plot.pie(ylabel='',figsize=(7, 7))"
   ]
  }
 ],
 "metadata": {
  "kernelspec": {
   "display_name": "Python 3",
   "language": "python",
   "name": "python3"
  },
  "language_info": {
   "codemirror_mode": {
    "name": "ipython",
    "version": 3
   },
   "file_extension": ".py",
   "mimetype": "text/x-python",
   "name": "python",
   "nbconvert_exporter": "python",
   "pygments_lexer": "ipython3",
   "version": "3.8.5"
  }
 },
 "nbformat": 4,
 "nbformat_minor": 4
}
